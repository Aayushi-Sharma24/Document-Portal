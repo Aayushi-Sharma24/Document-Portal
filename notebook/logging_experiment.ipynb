{
 "cells": [
  {
   "cell_type": "code",
   "execution_count": 7,
   "id": "de5722c9",
   "metadata": {},
   "outputs": [],
   "source": [
    "import logging\n",
    "import os\n",
    "from datetime import datetime\n",
    "\n",
    "logs_dir = os.path.join(os.getcwd(), \"logs\")\n",
    "\n",
    "os.makedirs(logs_dir, exist_ok=True)\n"
   ]
  },
  {
   "cell_type": "code",
   "execution_count": 8,
   "id": "9779f6af",
   "metadata": {},
   "outputs": [
    {
     "data": {
      "text/plain": [
       "'08_12_2025_15_12_18.log'"
      ]
     },
     "execution_count": 8,
     "metadata": {},
     "output_type": "execute_result"
    }
   ],
   "source": [
    "LOG_FILE = f\"{datetime.now().strftime('%m_%d_%Y_%H_%M_%S')}.log\"\n",
    "LOG_FILE"
   ]
  },
  {
   "cell_type": "code",
   "execution_count": 9,
   "id": "f8b4a3f9",
   "metadata": {},
   "outputs": [],
   "source": [
    "LOG_FILE_PATH = os.path.join(logs_dir, LOG_FILE)"
   ]
  },
  {
   "cell_type": "code",
   "execution_count": 10,
   "id": "6141bee1",
   "metadata": {},
   "outputs": [],
   "source": [
    "logging.basicConfig(\n",
    "    filename = LOG_FILE_PATH,\n",
    "    format = \"[%(asctime)s] %(levelname)s: %(name)s (line: %(lineno)d - %(message)s)\",\n",
    "    level = logging.INFO\n",
    ")"
   ]
  },
  {
   "cell_type": "code",
   "execution_count": 11,
   "id": "34bcfe2d",
   "metadata": {},
   "outputs": [],
   "source": [
    "logger = logging.getLogger('DocumentPortal')\n",
    "logger.info(\"Logging experiment started.\")"
   ]
  },
  {
   "cell_type": "code",
   "execution_count": null,
   "id": "b12ff2ba",
   "metadata": {},
   "outputs": [],
   "source": []
  },
  {
   "cell_type": "code",
   "execution_count": null,
   "id": "2047a365",
   "metadata": {},
   "outputs": [],
   "source": []
  },
  {
   "cell_type": "code",
   "execution_count": null,
   "id": "11fee833",
   "metadata": {},
   "outputs": [],
   "source": []
  }
 ],
 "metadata": {
  "kernelspec": {
   "display_name": "Python 3",
   "language": "python",
   "name": "python3"
  },
  "language_info": {
   "codemirror_mode": {
    "name": "ipython",
    "version": 3
   },
   "file_extension": ".py",
   "mimetype": "text/x-python",
   "name": "python",
   "nbconvert_exporter": "python",
   "pygments_lexer": "ipython3",
   "version": "3.12.11"
  }
 },
 "nbformat": 4,
 "nbformat_minor": 5
}
